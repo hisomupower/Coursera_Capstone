{
 "cells": [
  {
   "cell_type": "markdown",
   "metadata": {},
   "source": [
    "## <font color=\"coral\">EJ's Capstone Course Week4: Battle of Neighborhoods</font>  \n",
    "\n",
    "\n",
    "This Jupyter notebook is to define a business problem to solve and describe the data I will be using as my submission for IBM Data Science Capstone Course week 4 project. "
   ]
  },
  {
   "cell_type": "markdown",
   "metadata": {},
   "source": [
    "<b>Project Title: Finding an Optimal Location for a Restaurant in a City </b>"
   ]
  },
  {
   "cell_type": "markdown",
   "metadata": {},
   "source": [
    "<b>Part I. Introduction: Define a Business Problem</b>"
   ]
  },
  {
   "cell_type": "markdown",
   "metadata": {},
   "source": [
    "Opening a new restaurant is a daunting task.  Surviving and thriving, or staying open and profitable, is even harder.  According to pre-COVID satistics data in 2019, sixty percent of restaurants close within their first year and 80 percent close within five years.  Besides offering tasty food items, there are many factors to becoming a successful restaurant.  One of the most critical ones is the location because the revenue of a restaurant depends heavily on the number of physical visits of customers.  Even in the times or locations where delivery services become a common practice, establishing a good reputation initially, usually based on reviews, is what leads to carry-out or delivery sales volumes, especially if the restaurant is not a franchisee of a well-known brand.  In order to select the right location for a new restaurant, the owner must consider many aspects associated with the geographical location.  Does the type of restaurant and food fit the demographic of the neighborhood?  What is the amount of traffic of potential customers throughout the week?  How many competitors are in the neighborhood?  Answering these questions enables the owner to understand supply and demand and, ultimately, to forecast the business’s revenue.  \n",
    "  \n",
    "In this scenario, an entrepreneur is planning to open a casual take-out and dine-in restaurant that specializes in Korean fried chicken and beer in the city of Philadelphia, Pennsylvania.  His commercial real estate tenant representative found him a number of locations that meet his business start-up budget.  His next step is to find the location that is likely to produce the most revenue.  He needs to obtain business intelligence on the type of neighborhoods in the city and the amount of temporal activities in each neighborhood.\n"
   ]
  },
  {
   "cell_type": "markdown",
   "metadata": {},
   "source": [
    "<b>Part II. Data</b>"
   ]
  },
  {
   "cell_type": "markdown",
   "metadata": {},
   "source": [
    "For this project, I will use crowd-sourced, location-based data obtained from Foursquare to determine a suitable neighborhood for a new business and areas with higher number of potential customers.  Because the new business targets a young late-night crowd, it is beneficial to have bars and clubs in the vicinity.  I plan to categorize neighborhoods based on those existing venues.  I will incorporate available users' age data into the analysis.  Once I categorize neighborhoods, I will leverage Foursquare user check-in data to analyze temporal activities by time of the day and day of the week to better my undertanding of each neighborhood.  The analysis will be used to highlight areas with a higher number of potential customers within suitable neighborhoods.  I will limit the timeline of the data from March 2017 to March 2020.  I expect the data from March 2020 will be markedly deviated from the norm due to business disruptions caused by the pandemic and lock-down measures.  I will present the data from March 2020 to show comparisons of temporal activities between the pre-pandemic periods and the pandemic periods as well.   "
   ]
  }
 ],
 "metadata": {
  "kernelspec": {
   "display_name": "Python 3",
   "language": "python",
   "name": "python3"
  },
  "language_info": {
   "codemirror_mode": {
    "name": "ipython",
    "version": 3
   },
   "file_extension": ".py",
   "mimetype": "text/x-python",
   "name": "python",
   "nbconvert_exporter": "python",
   "pygments_lexer": "ipython3",
   "version": "3.7.4"
  }
 },
 "nbformat": 4,
 "nbformat_minor": 2
}
